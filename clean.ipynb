{
 "cells": [
  {
   "cell_type": "code",
   "execution_count": 1,
   "metadata": {},
   "outputs": [],
   "source": [
    "import re\n",
    "import gc\n",
    "import nltk\n",
    "import numpy\n",
    "import pandas"
   ]
  },
  {
   "cell_type": "markdown",
   "metadata": {},
   "source": [
    "# Prep NLTK"
   ]
  },
  {
   "cell_type": "code",
   "execution_count": 2,
   "metadata": {},
   "outputs": [
    {
     "name": "stderr",
     "output_type": "stream",
     "text": [
      "[nltk_data] Downloading package stopwords to\n",
      "[nltk_data]     /home/jupyter/nltk_data...\n",
      "[nltk_data]   Package stopwords is already up-to-date!\n",
      "[nltk_data] Downloading package punkt to /home/jupyter/nltk_data...\n",
      "[nltk_data]   Package punkt is already up-to-date!\n"
     ]
    },
    {
     "data": {
      "text/plain": [
       "True"
      ]
     },
     "execution_count": 2,
     "metadata": {},
     "output_type": "execute_result"
    }
   ],
   "source": [
    "nltk.download('stopwords')\n",
    "nltk.download('punkt')"
   ]
  },
  {
   "cell_type": "code",
   "execution_count": 3,
   "metadata": {},
   "outputs": [],
   "source": [
    "from nltk.corpus import stopwords\n",
    "stops = stopwords.words('english')"
   ]
  },
  {
   "cell_type": "code",
   "execution_count": 4,
   "metadata": {},
   "outputs": [
    {
     "name": "stdout",
     "output_type": "stream",
     "text": [
      "['i', 'me', 'my', 'myself', 'we', 'our', 'ours', 'ourselves', 'you', \"you're\", \"you've\", \"you'll\", \"you'd\", 'your', 'yours', 'yourself', 'yourselves', 'he', 'him', 'his', 'himself', 'she', \"she's\", 'her', 'hers', 'herself', 'it', \"it's\", 'its', 'itself', 'they', 'them', 'their', 'theirs', 'themselves', 'what', 'which', 'who', 'whom', 'this', 'that', \"that'll\", 'these', 'those', 'am', 'is', 'are', 'was', 'were', 'be', 'been', 'being', 'have', 'has', 'had', 'having', 'do', 'does', 'did', 'doing', 'a', 'an', 'the', 'and', 'but', 'if', 'or', 'because', 'as', 'until', 'while', 'of', 'at', 'by', 'for', 'with', 'about', 'against', 'between', 'into', 'through', 'during', 'before', 'after', 'above', 'below', 'to', 'from', 'up', 'down', 'in', 'out', 'on', 'off', 'over', 'under', 'again', 'further', 'then', 'once', 'here', 'there', 'when', 'where', 'why', 'how', 'all', 'any', 'both', 'each', 'few', 'more', 'most', 'other', 'some', 'such', 'no', 'nor', 'not', 'only', 'own', 'same', 'so', 'than', 'too', 'very', 's', 't', 'can', 'will', 'just', 'don', \"don't\", 'should', \"should've\", 'now', 'd', 'll', 'm', 'o', 're', 've', 'y', 'ain', 'aren', \"aren't\", 'couldn', \"couldn't\", 'didn', \"didn't\", 'doesn', \"doesn't\", 'hadn', \"hadn't\", 'hasn', \"hasn't\", 'haven', \"haven't\", 'isn', \"isn't\", 'ma', 'mightn', \"mightn't\", 'mustn', \"mustn't\", 'needn', \"needn't\", 'shan', \"shan't\", 'shouldn', \"shouldn't\", 'wasn', \"wasn't\", 'weren', \"weren't\", 'won', \"won't\", 'wouldn', \"wouldn't\"]\n"
     ]
    }
   ],
   "source": [
    "print(stops)"
   ]
  },
  {
   "cell_type": "markdown",
   "metadata": {},
   "source": [
    "# Load Message History"
   ]
  },
  {
   "cell_type": "code",
   "execution_count": 5,
   "metadata": {},
   "outputs": [],
   "source": [
    "df = pandas.read_csv(\"messages.csv\", delimiter=\"|\")"
   ]
  },
  {
   "cell_type": "markdown",
   "metadata": {},
   "source": [
    "We should remove all duckbot data"
   ]
  },
  {
   "cell_type": "code",
   "execution_count": 6,
   "metadata": {},
   "outputs": [],
   "source": [
    "df = df[~(df[\"author\"].isin([\"tomasgotchi#7985\",\"Lichthammer#5825\",\"Ras#3571\",\"Lord_Quebes#9246\",\"Lance uppercut#8683\",\"DuckBot#7214\"]))]"
   ]
  },
  {
   "cell_type": "code",
   "execution_count": 7,
   "metadata": {},
   "outputs": [],
   "source": [
    "df = df.dropna()"
   ]
  },
  {
   "cell_type": "code",
   "execution_count": 8,
   "metadata": {},
   "outputs": [
    {
     "data": {
      "text/plain": [
       "0"
      ]
     },
     "execution_count": 8,
     "metadata": {},
     "output_type": "execute_result"
    }
   ],
   "source": [
    "gc.collect()"
   ]
  },
  {
   "cell_type": "code",
   "execution_count": 9,
   "metadata": {},
   "outputs": [
    {
     "data": {
      "text/html": [
       "<div>\n",
       "<style scoped>\n",
       "    .dataframe tbody tr th:only-of-type {\n",
       "        vertical-align: middle;\n",
       "    }\n",
       "\n",
       "    .dataframe tbody tr th {\n",
       "        vertical-align: top;\n",
       "    }\n",
       "\n",
       "    .dataframe thead th {\n",
       "        text-align: right;\n",
       "    }\n",
       "</style>\n",
       "<table border=\"1\" class=\"dataframe\">\n",
       "  <thead>\n",
       "    <tr style=\"text-align: right;\">\n",
       "      <th></th>\n",
       "      <th>channel</th>\n",
       "      <th>author</th>\n",
       "      <th>message</th>\n",
       "    </tr>\n",
       "  </thead>\n",
       "  <tbody>\n",
       "    <tr>\n",
       "      <th>0</th>\n",
       "      <td>general</td>\n",
       "      <td>Davey Jonez#6500</td>\n",
       "      <td>then go skiing again the next day</td>\n",
       "    </tr>\n",
       "    <tr>\n",
       "      <th>1</th>\n",
       "      <td>general</td>\n",
       "      <td>Davey Jonez#6500</td>\n",
       "      <td>then instead of going back to calgary you go t...</td>\n",
       "    </tr>\n",
       "    <tr>\n",
       "      <th>2</th>\n",
       "      <td>general</td>\n",
       "      <td>Davey Jonez#6500</td>\n",
       "      <td>yes. to go back country skiing in banff, away ...</td>\n",
       "    </tr>\n",
       "    <tr>\n",
       "      <th>3</th>\n",
       "      <td>general</td>\n",
       "      <td>Dan#0075</td>\n",
       "      <td>leaving calgary temporarily?</td>\n",
       "    </tr>\n",
       "    <tr>\n",
       "      <th>4</th>\n",
       "      <td>general</td>\n",
       "      <td>Davey Jonez#6500</td>\n",
       "      <td>it involves leaving calgary.</td>\n",
       "    </tr>\n",
       "  </tbody>\n",
       "</table>\n",
       "</div>"
      ],
      "text/plain": [
       "   channel            author  \\\n",
       "0  general  Davey Jonez#6500   \n",
       "1  general  Davey Jonez#6500   \n",
       "2  general  Davey Jonez#6500   \n",
       "3  general          Dan#0075   \n",
       "4  general  Davey Jonez#6500   \n",
       "\n",
       "                                             message  \n",
       "0                  then go skiing again the next day  \n",
       "1  then instead of going back to calgary you go t...  \n",
       "2  yes. to go back country skiing in banff, away ...  \n",
       "3                       leaving calgary temporarily?  \n",
       "4                       it involves leaving calgary.  "
      ]
     },
     "execution_count": 9,
     "metadata": {},
     "output_type": "execute_result"
    }
   ],
   "source": [
    "df.head(5)"
   ]
  },
  {
   "cell_type": "code",
   "execution_count": 10,
   "metadata": {},
   "outputs": [
    {
     "data": {
      "text/plain": [
       "(10953, 3)"
      ]
     },
     "execution_count": 10,
     "metadata": {},
     "output_type": "execute_result"
    }
   ],
   "source": [
    "df.shape"
   ]
  },
  {
   "cell_type": "markdown",
   "metadata": {},
   "source": [
    "# Breakdown"
   ]
  },
  {
   "cell_type": "markdown",
   "metadata": {},
   "source": [
    "### Channel Data"
   ]
  },
  {
   "cell_type": "code",
   "execution_count": 11,
   "metadata": {},
   "outputs": [
    {
     "data": {
      "text/plain": [
       "general       6291\n",
       "games         2042\n",
       "work           781\n",
       "duckbutt       706\n",
       "gluten         507\n",
       "stonks         312\n",
       "memes          240\n",
       "toms-memes      64\n",
       "dj-booth        10\n",
       "Name: channel, dtype: int64"
      ]
     },
     "execution_count": 11,
     "metadata": {},
     "output_type": "execute_result"
    }
   ],
   "source": [
    "df[\"channel\"].value_counts()"
   ]
  },
  {
   "cell_type": "code",
   "execution_count": 12,
   "metadata": {},
   "outputs": [
    {
     "data": {
      "text/plain": [
       "general       0.574363\n",
       "games         0.186433\n",
       "work          0.071305\n",
       "duckbutt      0.064457\n",
       "gluten        0.046289\n",
       "stonks        0.028485\n",
       "memes         0.021912\n",
       "toms-memes    0.005843\n",
       "dj-booth      0.000913\n",
       "Name: channel, dtype: float64"
      ]
     },
     "execution_count": 12,
     "metadata": {},
     "output_type": "execute_result"
    }
   ],
   "source": [
    "df[\"channel\"].value_counts(normalize=True)"
   ]
  },
  {
   "cell_type": "markdown",
   "metadata": {},
   "source": [
    "- We can likely remove any messages for dj-booth, memes, and toms-memes\n",
    "- The general channel accounts for most messages, we should avoid recomending the general channel"
   ]
  },
  {
   "cell_type": "markdown",
   "metadata": {},
   "source": [
    "### Author Data"
   ]
  },
  {
   "cell_type": "code",
   "execution_count": 13,
   "metadata": {},
   "outputs": [
    {
     "data": {
      "text/plain": [
       "twentylemon#2882            4432\n",
       "Tomos#5313                  2319\n",
       "Shmebulock#4334             1122\n",
       "Davey Jonez#6500             791\n",
       "Dan#0075                     499\n",
       "chiko212#1472                498\n",
       "gnot a gnelf#9605            444\n",
       "Lally Monkey#4693            414\n",
       "Rambotarzan#7446             206\n",
       "LordAdmiralFluffson#4764     171\n",
       "Beanybears#2713               34\n",
       "cocoblu#2486                  23\n",
       "Name: author, dtype: int64"
      ]
     },
     "execution_count": 13,
     "metadata": {},
     "output_type": "execute_result"
    }
   ],
   "source": [
    "df[\"author\"].value_counts()"
   ]
  },
  {
   "cell_type": "code",
   "execution_count": 14,
   "metadata": {},
   "outputs": [
    {
     "data": {
      "text/plain": [
       "twentylemon#2882            0.404638\n",
       "Tomos#5313                  0.211723\n",
       "Shmebulock#4334             0.102438\n",
       "Davey Jonez#6500            0.072218\n",
       "Dan#0075                    0.045558\n",
       "chiko212#1472               0.045467\n",
       "gnot a gnelf#9605           0.040537\n",
       "Lally Monkey#4693           0.037798\n",
       "Rambotarzan#7446            0.018808\n",
       "LordAdmiralFluffson#4764    0.015612\n",
       "Beanybears#2713             0.003104\n",
       "cocoblu#2486                0.002100\n",
       "Name: author, dtype: float64"
      ]
     },
     "execution_count": 14,
     "metadata": {},
     "output_type": "execute_result"
    }
   ],
   "source": [
    "df[\"author\"].value_counts(normalize=True)"
   ]
  },
  {
   "cell_type": "code",
   "execution_count": 15,
   "metadata": {},
   "outputs": [],
   "source": [
    "df[\"size\"] = df[\"message\"].str.len()"
   ]
  },
  {
   "cell_type": "code",
   "execution_count": 16,
   "metadata": {},
   "outputs": [
    {
     "data": {
      "text/html": [
       "<div>\n",
       "<style scoped>\n",
       "    .dataframe tbody tr th:only-of-type {\n",
       "        vertical-align: middle;\n",
       "    }\n",
       "\n",
       "    .dataframe tbody tr th {\n",
       "        vertical-align: top;\n",
       "    }\n",
       "\n",
       "    .dataframe thead th {\n",
       "        text-align: right;\n",
       "    }\n",
       "</style>\n",
       "<table border=\"1\" class=\"dataframe\">\n",
       "  <thead>\n",
       "    <tr style=\"text-align: right;\">\n",
       "      <th></th>\n",
       "      <th>channel</th>\n",
       "      <th>author</th>\n",
       "      <th>message</th>\n",
       "      <th>size</th>\n",
       "    </tr>\n",
       "  </thead>\n",
       "  <tbody>\n",
       "    <tr>\n",
       "      <th>0</th>\n",
       "      <td>general</td>\n",
       "      <td>Davey Jonez#6500</td>\n",
       "      <td>then go skiing again the next day</td>\n",
       "      <td>33</td>\n",
       "    </tr>\n",
       "    <tr>\n",
       "      <th>1</th>\n",
       "      <td>general</td>\n",
       "      <td>Davey Jonez#6500</td>\n",
       "      <td>then instead of going back to calgary you go t...</td>\n",
       "      <td>101</td>\n",
       "    </tr>\n",
       "    <tr>\n",
       "      <th>2</th>\n",
       "      <td>general</td>\n",
       "      <td>Davey Jonez#6500</td>\n",
       "      <td>yes. to go back country skiing in banff, away ...</td>\n",
       "      <td>60</td>\n",
       "    </tr>\n",
       "    <tr>\n",
       "      <th>3</th>\n",
       "      <td>general</td>\n",
       "      <td>Dan#0075</td>\n",
       "      <td>leaving calgary temporarily?</td>\n",
       "      <td>28</td>\n",
       "    </tr>\n",
       "    <tr>\n",
       "      <th>4</th>\n",
       "      <td>general</td>\n",
       "      <td>Davey Jonez#6500</td>\n",
       "      <td>it involves leaving calgary.</td>\n",
       "      <td>28</td>\n",
       "    </tr>\n",
       "  </tbody>\n",
       "</table>\n",
       "</div>"
      ],
      "text/plain": [
       "   channel            author  \\\n",
       "0  general  Davey Jonez#6500   \n",
       "1  general  Davey Jonez#6500   \n",
       "2  general  Davey Jonez#6500   \n",
       "3  general          Dan#0075   \n",
       "4  general  Davey Jonez#6500   \n",
       "\n",
       "                                             message  size  \n",
       "0                  then go skiing again the next day    33  \n",
       "1  then instead of going back to calgary you go t...   101  \n",
       "2  yes. to go back country skiing in banff, away ...    60  \n",
       "3                       leaving calgary temporarily?    28  \n",
       "4                       it involves leaving calgary.    28  "
      ]
     },
     "execution_count": 16,
     "metadata": {},
     "output_type": "execute_result"
    }
   ],
   "source": [
    "df.head(5)"
   ]
  },
  {
   "cell_type": "code",
   "execution_count": 17,
   "metadata": {},
   "outputs": [
    {
     "data": {
      "text/html": [
       "<div>\n",
       "<style scoped>\n",
       "    .dataframe tbody tr th:only-of-type {\n",
       "        vertical-align: middle;\n",
       "    }\n",
       "\n",
       "    .dataframe tbody tr th {\n",
       "        vertical-align: top;\n",
       "    }\n",
       "\n",
       "    .dataframe thead th {\n",
       "        text-align: right;\n",
       "    }\n",
       "</style>\n",
       "<table border=\"1\" class=\"dataframe\">\n",
       "  <thead>\n",
       "    <tr style=\"text-align: right;\">\n",
       "      <th></th>\n",
       "      <th>author</th>\n",
       "      <th>size</th>\n",
       "    </tr>\n",
       "  </thead>\n",
       "  <tbody>\n",
       "    <tr>\n",
       "      <th>2</th>\n",
       "      <td>Davey Jonez#6500</td>\n",
       "      <td>48.872314</td>\n",
       "    </tr>\n",
       "    <tr>\n",
       "      <th>8</th>\n",
       "      <td>chiko212#1472</td>\n",
       "      <td>43.757028</td>\n",
       "    </tr>\n",
       "    <tr>\n",
       "      <th>4</th>\n",
       "      <td>LordAdmiralFluffson#4764</td>\n",
       "      <td>41.935673</td>\n",
       "    </tr>\n",
       "    <tr>\n",
       "      <th>7</th>\n",
       "      <td>Tomos#5313</td>\n",
       "      <td>41.877965</td>\n",
       "    </tr>\n",
       "    <tr>\n",
       "      <th>3</th>\n",
       "      <td>Lally Monkey#4693</td>\n",
       "      <td>41.731884</td>\n",
       "    </tr>\n",
       "    <tr>\n",
       "      <th>9</th>\n",
       "      <td>cocoblu#2486</td>\n",
       "      <td>40.826087</td>\n",
       "    </tr>\n",
       "    <tr>\n",
       "      <th>0</th>\n",
       "      <td>Beanybears#2713</td>\n",
       "      <td>37.352941</td>\n",
       "    </tr>\n",
       "    <tr>\n",
       "      <th>6</th>\n",
       "      <td>Shmebulock#4334</td>\n",
       "      <td>35.235294</td>\n",
       "    </tr>\n",
       "    <tr>\n",
       "      <th>5</th>\n",
       "      <td>Rambotarzan#7446</td>\n",
       "      <td>32.961165</td>\n",
       "    </tr>\n",
       "    <tr>\n",
       "      <th>10</th>\n",
       "      <td>gnot a gnelf#9605</td>\n",
       "      <td>32.254505</td>\n",
       "    </tr>\n",
       "    <tr>\n",
       "      <th>11</th>\n",
       "      <td>twentylemon#2882</td>\n",
       "      <td>29.533168</td>\n",
       "    </tr>\n",
       "    <tr>\n",
       "      <th>1</th>\n",
       "      <td>Dan#0075</td>\n",
       "      <td>28.985972</td>\n",
       "    </tr>\n",
       "  </tbody>\n",
       "</table>\n",
       "</div>"
      ],
      "text/plain": [
       "                      author       size\n",
       "2           Davey Jonez#6500  48.872314\n",
       "8              chiko212#1472  43.757028\n",
       "4   LordAdmiralFluffson#4764  41.935673\n",
       "7                 Tomos#5313  41.877965\n",
       "3          Lally Monkey#4693  41.731884\n",
       "9               cocoblu#2486  40.826087\n",
       "0            Beanybears#2713  37.352941\n",
       "6            Shmebulock#4334  35.235294\n",
       "5           Rambotarzan#7446  32.961165\n",
       "10         gnot a gnelf#9605  32.254505\n",
       "11          twentylemon#2882  29.533168\n",
       "1                   Dan#0075  28.985972"
      ]
     },
     "execution_count": 17,
     "metadata": {},
     "output_type": "execute_result"
    }
   ],
   "source": [
    "df.groupby(\"author\")[\"size\"].mean().reset_index().sort_values(\"size\", ascending=False)"
   ]
  },
  {
   "cell_type": "code",
   "execution_count": 18,
   "metadata": {},
   "outputs": [
    {
     "data": {
      "text/html": [
       "<div>\n",
       "<style scoped>\n",
       "    .dataframe tbody tr th:only-of-type {\n",
       "        vertical-align: middle;\n",
       "    }\n",
       "\n",
       "    .dataframe tbody tr th {\n",
       "        vertical-align: top;\n",
       "    }\n",
       "\n",
       "    .dataframe thead th {\n",
       "        text-align: right;\n",
       "    }\n",
       "</style>\n",
       "<table border=\"1\" class=\"dataframe\">\n",
       "  <thead>\n",
       "    <tr style=\"text-align: right;\">\n",
       "      <th></th>\n",
       "      <th>author</th>\n",
       "      <th>size</th>\n",
       "    </tr>\n",
       "  </thead>\n",
       "  <tbody>\n",
       "    <tr>\n",
       "      <th>2</th>\n",
       "      <td>Davey Jonez#6500</td>\n",
       "      <td>39.0</td>\n",
       "    </tr>\n",
       "    <tr>\n",
       "      <th>8</th>\n",
       "      <td>chiko212#1472</td>\n",
       "      <td>39.0</td>\n",
       "    </tr>\n",
       "    <tr>\n",
       "      <th>4</th>\n",
       "      <td>LordAdmiralFluffson#4764</td>\n",
       "      <td>32.0</td>\n",
       "    </tr>\n",
       "    <tr>\n",
       "      <th>0</th>\n",
       "      <td>Beanybears#2713</td>\n",
       "      <td>30.5</td>\n",
       "    </tr>\n",
       "    <tr>\n",
       "      <th>3</th>\n",
       "      <td>Lally Monkey#4693</td>\n",
       "      <td>30.0</td>\n",
       "    </tr>\n",
       "    <tr>\n",
       "      <th>7</th>\n",
       "      <td>Tomos#5313</td>\n",
       "      <td>28.0</td>\n",
       "    </tr>\n",
       "    <tr>\n",
       "      <th>10</th>\n",
       "      <td>gnot a gnelf#9605</td>\n",
       "      <td>28.0</td>\n",
       "    </tr>\n",
       "    <tr>\n",
       "      <th>5</th>\n",
       "      <td>Rambotarzan#7446</td>\n",
       "      <td>27.5</td>\n",
       "    </tr>\n",
       "    <tr>\n",
       "      <th>9</th>\n",
       "      <td>cocoblu#2486</td>\n",
       "      <td>26.0</td>\n",
       "    </tr>\n",
       "    <tr>\n",
       "      <th>1</th>\n",
       "      <td>Dan#0075</td>\n",
       "      <td>23.0</td>\n",
       "    </tr>\n",
       "    <tr>\n",
       "      <th>6</th>\n",
       "      <td>Shmebulock#4334</td>\n",
       "      <td>23.0</td>\n",
       "    </tr>\n",
       "    <tr>\n",
       "      <th>11</th>\n",
       "      <td>twentylemon#2882</td>\n",
       "      <td>23.0</td>\n",
       "    </tr>\n",
       "  </tbody>\n",
       "</table>\n",
       "</div>"
      ],
      "text/plain": [
       "                      author  size\n",
       "2           Davey Jonez#6500  39.0\n",
       "8              chiko212#1472  39.0\n",
       "4   LordAdmiralFluffson#4764  32.0\n",
       "0            Beanybears#2713  30.5\n",
       "3          Lally Monkey#4693  30.0\n",
       "7                 Tomos#5313  28.0\n",
       "10         gnot a gnelf#9605  28.0\n",
       "5           Rambotarzan#7446  27.5\n",
       "9               cocoblu#2486  26.0\n",
       "1                   Dan#0075  23.0\n",
       "6            Shmebulock#4334  23.0\n",
       "11          twentylemon#2882  23.0"
      ]
     },
     "execution_count": 18,
     "metadata": {},
     "output_type": "execute_result"
    }
   ],
   "source": [
    "df.groupby(\"author\")[\"size\"].median().reset_index().sort_values(\"size\", ascending=False)"
   ]
  },
  {
   "cell_type": "code",
   "execution_count": 19,
   "metadata": {},
   "outputs": [],
   "source": [
    "dd = df.groupby(\"author\")[\"size\"].sum().reset_index().sort_values(\"size\", ascending=False)"
   ]
  },
  {
   "cell_type": "code",
   "execution_count": 20,
   "metadata": {},
   "outputs": [
    {
     "data": {
      "text/html": [
       "<div>\n",
       "<style scoped>\n",
       "    .dataframe tbody tr th:only-of-type {\n",
       "        vertical-align: middle;\n",
       "    }\n",
       "\n",
       "    .dataframe tbody tr th {\n",
       "        vertical-align: top;\n",
       "    }\n",
       "\n",
       "    .dataframe thead th {\n",
       "        text-align: right;\n",
       "    }\n",
       "</style>\n",
       "<table border=\"1\" class=\"dataframe\">\n",
       "  <thead>\n",
       "    <tr style=\"text-align: right;\">\n",
       "      <th></th>\n",
       "      <th>author</th>\n",
       "      <th>size</th>\n",
       "    </tr>\n",
       "  </thead>\n",
       "  <tbody>\n",
       "    <tr>\n",
       "      <th>11</th>\n",
       "      <td>twentylemon#2882</td>\n",
       "      <td>130891</td>\n",
       "    </tr>\n",
       "    <tr>\n",
       "      <th>7</th>\n",
       "      <td>Tomos#5313</td>\n",
       "      <td>97115</td>\n",
       "    </tr>\n",
       "    <tr>\n",
       "      <th>6</th>\n",
       "      <td>Shmebulock#4334</td>\n",
       "      <td>39534</td>\n",
       "    </tr>\n",
       "    <tr>\n",
       "      <th>2</th>\n",
       "      <td>Davey Jonez#6500</td>\n",
       "      <td>38658</td>\n",
       "    </tr>\n",
       "    <tr>\n",
       "      <th>8</th>\n",
       "      <td>chiko212#1472</td>\n",
       "      <td>21791</td>\n",
       "    </tr>\n",
       "    <tr>\n",
       "      <th>3</th>\n",
       "      <td>Lally Monkey#4693</td>\n",
       "      <td>17277</td>\n",
       "    </tr>\n",
       "    <tr>\n",
       "      <th>1</th>\n",
       "      <td>Dan#0075</td>\n",
       "      <td>14464</td>\n",
       "    </tr>\n",
       "    <tr>\n",
       "      <th>10</th>\n",
       "      <td>gnot a gnelf#9605</td>\n",
       "      <td>14321</td>\n",
       "    </tr>\n",
       "    <tr>\n",
       "      <th>4</th>\n",
       "      <td>LordAdmiralFluffson#4764</td>\n",
       "      <td>7171</td>\n",
       "    </tr>\n",
       "    <tr>\n",
       "      <th>5</th>\n",
       "      <td>Rambotarzan#7446</td>\n",
       "      <td>6790</td>\n",
       "    </tr>\n",
       "    <tr>\n",
       "      <th>0</th>\n",
       "      <td>Beanybears#2713</td>\n",
       "      <td>1270</td>\n",
       "    </tr>\n",
       "    <tr>\n",
       "      <th>9</th>\n",
       "      <td>cocoblu#2486</td>\n",
       "      <td>939</td>\n",
       "    </tr>\n",
       "  </tbody>\n",
       "</table>\n",
       "</div>"
      ],
      "text/plain": [
       "                      author    size\n",
       "11          twentylemon#2882  130891\n",
       "7                 Tomos#5313   97115\n",
       "6            Shmebulock#4334   39534\n",
       "2           Davey Jonez#6500   38658\n",
       "8              chiko212#1472   21791\n",
       "3          Lally Monkey#4693   17277\n",
       "1                   Dan#0075   14464\n",
       "10         gnot a gnelf#9605   14321\n",
       "4   LordAdmiralFluffson#4764    7171\n",
       "5           Rambotarzan#7446    6790\n",
       "0            Beanybears#2713    1270\n",
       "9               cocoblu#2486     939"
      ]
     },
     "execution_count": 20,
     "metadata": {},
     "output_type": "execute_result"
    }
   ],
   "source": [
    "dd"
   ]
  },
  {
   "cell_type": "code",
   "execution_count": 21,
   "metadata": {},
   "outputs": [
    {
     "data": {
      "image/png": "[encoded data removed]",
      "text/plain": [
       "<Figure size 1080x1080 with 1 Axes>"
      ]
     },
     "metadata": {},
     "output_type": "display_data"
    }
   ],
   "source": [
    "import matplotlib.pyplot as plt\n",
    "\n",
    "# Pie chart, where the slices will be ordered and plotted counter-clockwise:\n",
    "labels = list(dd[\"author\"].values)\n",
    "sizes = list(dd[\"size\"].values)\n",
    "\n",
    "fig1, ax1 = plt.subplots(figsize=(15,15))\n",
    "ax1.pie(sizes, labels=labels, autopct='%1.1f%%', shadow=True, startangle=90)\n",
    "ax1.axis('equal')  # Equal aspect ratio ensures that pie is drawn as a circle.\n",
    "\n",
    "plt.savefig(\"lol.png\")\n",
    "plt.show()"
   ]
  },
  {
   "cell_type": "markdown",
   "metadata": {},
   "source": [
    "# Fix Messages"
   ]
  },
  {
   "cell_type": "code",
   "execution_count": 22,
   "metadata": {},
   "outputs": [
    {
     "data": {
      "text/html": [
       "<div>\n",
       "<style scoped>\n",
       "    .dataframe tbody tr th:only-of-type {\n",
       "        vertical-align: middle;\n",
       "    }\n",
       "\n",
       "    .dataframe tbody tr th {\n",
       "        vertical-align: top;\n",
       "    }\n",
       "\n",
       "    .dataframe thead th {\n",
       "        text-align: right;\n",
       "    }\n",
       "</style>\n",
       "<table border=\"1\" class=\"dataframe\">\n",
       "  <thead>\n",
       "    <tr style=\"text-align: right;\">\n",
       "      <th></th>\n",
       "      <th>channel</th>\n",
       "      <th>author</th>\n",
       "      <th>message</th>\n",
       "      <th>size</th>\n",
       "    </tr>\n",
       "  </thead>\n",
       "  <tbody>\n",
       "    <tr>\n",
       "      <th>0</th>\n",
       "      <td>general</td>\n",
       "      <td>Davey Jonez#6500</td>\n",
       "      <td>then go skiing again the next day</td>\n",
       "      <td>33</td>\n",
       "    </tr>\n",
       "    <tr>\n",
       "      <th>1</th>\n",
       "      <td>general</td>\n",
       "      <td>Davey Jonez#6500</td>\n",
       "      <td>then instead of going back to calgary you go t...</td>\n",
       "      <td>101</td>\n",
       "    </tr>\n",
       "    <tr>\n",
       "      <th>2</th>\n",
       "      <td>general</td>\n",
       "      <td>Davey Jonez#6500</td>\n",
       "      <td>yes. to go back country skiing in banff, away ...</td>\n",
       "      <td>60</td>\n",
       "    </tr>\n",
       "    <tr>\n",
       "      <th>3</th>\n",
       "      <td>general</td>\n",
       "      <td>Dan#0075</td>\n",
       "      <td>leaving calgary temporarily?</td>\n",
       "      <td>28</td>\n",
       "    </tr>\n",
       "    <tr>\n",
       "      <th>4</th>\n",
       "      <td>general</td>\n",
       "      <td>Davey Jonez#6500</td>\n",
       "      <td>it involves leaving calgary.</td>\n",
       "      <td>28</td>\n",
       "    </tr>\n",
       "  </tbody>\n",
       "</table>\n",
       "</div>"
      ],
      "text/plain": [
       "   channel            author  \\\n",
       "0  general  Davey Jonez#6500   \n",
       "1  general  Davey Jonez#6500   \n",
       "2  general  Davey Jonez#6500   \n",
       "3  general          Dan#0075   \n",
       "4  general  Davey Jonez#6500   \n",
       "\n",
       "                                             message  size  \n",
       "0                  then go skiing again the next day    33  \n",
       "1  then instead of going back to calgary you go t...   101  \n",
       "2  yes. to go back country skiing in banff, away ...    60  \n",
       "3                       leaving calgary temporarily?    28  \n",
       "4                       it involves leaving calgary.    28  "
      ]
     },
     "execution_count": 22,
     "metadata": {},
     "output_type": "execute_result"
    }
   ],
   "source": [
    "df.head(5)"
   ]
  },
  {
   "cell_type": "code",
   "execution_count": 23,
   "metadata": {},
   "outputs": [],
   "source": [
    "def fix_message(x):\n",
    "    x2 = str(x).lower()\n",
    "    word_tokens = re.split(r'\\W+', x2)\n",
    "    filtered_tokens = [w for w in word_tokens if not w in stops]\n",
    "    \n",
    "    if len(filtered_tokens) > 0:\n",
    "        return filtered_tokens\n",
    "    else:\n",
    "        return numpy.nan\n",
    "# end def fix_message"
   ]
  },
  {
   "cell_type": "code",
   "execution_count": 24,
   "metadata": {},
   "outputs": [],
   "source": [
    "df[\"fixed\"] = df[\"message\"].map(fix_message)"
   ]
  },
  {
   "cell_type": "code",
   "execution_count": 25,
   "metadata": {},
   "outputs": [
    {
     "data": {
      "text/html": [
       "<div>\n",
       "<style scoped>\n",
       "    .dataframe tbody tr th:only-of-type {\n",
       "        vertical-align: middle;\n",
       "    }\n",
       "\n",
       "    .dataframe tbody tr th {\n",
       "        vertical-align: top;\n",
       "    }\n",
       "\n",
       "    .dataframe thead th {\n",
       "        text-align: right;\n",
       "    }\n",
       "</style>\n",
       "<table border=\"1\" class=\"dataframe\">\n",
       "  <thead>\n",
       "    <tr style=\"text-align: right;\">\n",
       "      <th></th>\n",
       "      <th>channel</th>\n",
       "      <th>author</th>\n",
       "      <th>message</th>\n",
       "      <th>size</th>\n",
       "      <th>fixed</th>\n",
       "    </tr>\n",
       "  </thead>\n",
       "  <tbody>\n",
       "    <tr>\n",
       "      <th>0</th>\n",
       "      <td>general</td>\n",
       "      <td>Davey Jonez#6500</td>\n",
       "      <td>then go skiing again the next day</td>\n",
       "      <td>33</td>\n",
       "      <td>[go, skiing, next, day]</td>\n",
       "    </tr>\n",
       "    <tr>\n",
       "      <th>1</th>\n",
       "      <td>general</td>\n",
       "      <td>Davey Jonez#6500</td>\n",
       "      <td>then instead of going back to calgary you go t...</td>\n",
       "      <td>101</td>\n",
       "      <td>[instead, going, back, calgary, go, lake, loui...</td>\n",
       "    </tr>\n",
       "    <tr>\n",
       "      <th>2</th>\n",
       "      <td>general</td>\n",
       "      <td>Davey Jonez#6500</td>\n",
       "      <td>yes. to go back country skiing in banff, away ...</td>\n",
       "      <td>60</td>\n",
       "      <td>[yes, go, back, country, skiing, banff, away, ...</td>\n",
       "    </tr>\n",
       "    <tr>\n",
       "      <th>3</th>\n",
       "      <td>general</td>\n",
       "      <td>Dan#0075</td>\n",
       "      <td>leaving calgary temporarily?</td>\n",
       "      <td>28</td>\n",
       "      <td>[leaving, calgary, temporarily, ]</td>\n",
       "    </tr>\n",
       "    <tr>\n",
       "      <th>4</th>\n",
       "      <td>general</td>\n",
       "      <td>Davey Jonez#6500</td>\n",
       "      <td>it involves leaving calgary.</td>\n",
       "      <td>28</td>\n",
       "      <td>[involves, leaving, calgary, ]</td>\n",
       "    </tr>\n",
       "  </tbody>\n",
       "</table>\n",
       "</div>"
      ],
      "text/plain": [
       "   channel            author  \\\n",
       "0  general  Davey Jonez#6500   \n",
       "1  general  Davey Jonez#6500   \n",
       "2  general  Davey Jonez#6500   \n",
       "3  general          Dan#0075   \n",
       "4  general  Davey Jonez#6500   \n",
       "\n",
       "                                             message  size  \\\n",
       "0                  then go skiing again the next day    33   \n",
       "1  then instead of going back to calgary you go t...   101   \n",
       "2  yes. to go back country skiing in banff, away ...    60   \n",
       "3                       leaving calgary temporarily?    28   \n",
       "4                       it involves leaving calgary.    28   \n",
       "\n",
       "                                               fixed  \n",
       "0                            [go, skiing, next, day]  \n",
       "1  [instead, going, back, calgary, go, lake, loui...  \n",
       "2  [yes, go, back, country, skiing, banff, away, ...  \n",
       "3                  [leaving, calgary, temporarily, ]  \n",
       "4                     [involves, leaving, calgary, ]  "
      ]
     },
     "execution_count": 25,
     "metadata": {},
     "output_type": "execute_result"
    }
   ],
   "source": [
    "df.head(5)"
   ]
  },
  {
   "cell_type": "code",
   "execution_count": 26,
   "metadata": {},
   "outputs": [],
   "source": [
    "df[\"fixed_size\"] = df['fixed'].str.len()"
   ]
  },
  {
   "cell_type": "code",
   "execution_count": 27,
   "metadata": {},
   "outputs": [
    {
     "data": {
      "text/html": [
       "<div>\n",
       "<style scoped>\n",
       "    .dataframe tbody tr th:only-of-type {\n",
       "        vertical-align: middle;\n",
       "    }\n",
       "\n",
       "    .dataframe tbody tr th {\n",
       "        vertical-align: top;\n",
       "    }\n",
       "\n",
       "    .dataframe thead th {\n",
       "        text-align: right;\n",
       "    }\n",
       "</style>\n",
       "<table border=\"1\" class=\"dataframe\">\n",
       "  <thead>\n",
       "    <tr style=\"text-align: right;\">\n",
       "      <th></th>\n",
       "      <th>channel</th>\n",
       "      <th>author</th>\n",
       "      <th>message</th>\n",
       "      <th>size</th>\n",
       "      <th>fixed</th>\n",
       "      <th>fixed_size</th>\n",
       "    </tr>\n",
       "  </thead>\n",
       "  <tbody>\n",
       "    <tr>\n",
       "      <th>0</th>\n",
       "      <td>general</td>\n",
       "      <td>Davey Jonez#6500</td>\n",
       "      <td>then go skiing again the next day</td>\n",
       "      <td>33</td>\n",
       "      <td>[go, skiing, next, day]</td>\n",
       "      <td>4.0</td>\n",
       "    </tr>\n",
       "    <tr>\n",
       "      <th>1</th>\n",
       "      <td>general</td>\n",
       "      <td>Davey Jonez#6500</td>\n",
       "      <td>then instead of going back to calgary you go t...</td>\n",
       "      <td>101</td>\n",
       "      <td>[instead, going, back, calgary, go, lake, loui...</td>\n",
       "      <td>11.0</td>\n",
       "    </tr>\n",
       "    <tr>\n",
       "      <th>2</th>\n",
       "      <td>general</td>\n",
       "      <td>Davey Jonez#6500</td>\n",
       "      <td>yes. to go back country skiing in banff, away ...</td>\n",
       "      <td>60</td>\n",
       "      <td>[yes, go, back, country, skiing, banff, away, ...</td>\n",
       "      <td>9.0</td>\n",
       "    </tr>\n",
       "    <tr>\n",
       "      <th>3</th>\n",
       "      <td>general</td>\n",
       "      <td>Dan#0075</td>\n",
       "      <td>leaving calgary temporarily?</td>\n",
       "      <td>28</td>\n",
       "      <td>[leaving, calgary, temporarily, ]</td>\n",
       "      <td>4.0</td>\n",
       "    </tr>\n",
       "    <tr>\n",
       "      <th>4</th>\n",
       "      <td>general</td>\n",
       "      <td>Davey Jonez#6500</td>\n",
       "      <td>it involves leaving calgary.</td>\n",
       "      <td>28</td>\n",
       "      <td>[involves, leaving, calgary, ]</td>\n",
       "      <td>4.0</td>\n",
       "    </tr>\n",
       "  </tbody>\n",
       "</table>\n",
       "</div>"
      ],
      "text/plain": [
       "   channel            author  \\\n",
       "0  general  Davey Jonez#6500   \n",
       "1  general  Davey Jonez#6500   \n",
       "2  general  Davey Jonez#6500   \n",
       "3  general          Dan#0075   \n",
       "4  general  Davey Jonez#6500   \n",
       "\n",
       "                                             message  size  \\\n",
       "0                  then go skiing again the next day    33   \n",
       "1  then instead of going back to calgary you go t...   101   \n",
       "2  yes. to go back country skiing in banff, away ...    60   \n",
       "3                       leaving calgary temporarily?    28   \n",
       "4                       it involves leaving calgary.    28   \n",
       "\n",
       "                                               fixed  fixed_size  \n",
       "0                            [go, skiing, next, day]         4.0  \n",
       "1  [instead, going, back, calgary, go, lake, loui...        11.0  \n",
       "2  [yes, go, back, country, skiing, banff, away, ...         9.0  \n",
       "3                  [leaving, calgary, temporarily, ]         4.0  \n",
       "4                     [involves, leaving, calgary, ]         4.0  "
      ]
     },
     "execution_count": 27,
     "metadata": {},
     "output_type": "execute_result"
    }
   ],
   "source": [
    "df.head(5)"
   ]
  },
  {
   "cell_type": "code",
   "execution_count": 28,
   "metadata": {},
   "outputs": [
    {
     "data": {
      "text/plain": [
       "channel         0\n",
       "author          0\n",
       "message         0\n",
       "size            0\n",
       "fixed         218\n",
       "fixed_size    218\n",
       "dtype: int64"
      ]
     },
     "execution_count": 28,
     "metadata": {},
     "output_type": "execute_result"
    }
   ],
   "source": [
    "df.isna().sum()"
   ]
  },
  {
   "cell_type": "code",
   "execution_count": 29,
   "metadata": {},
   "outputs": [
    {
     "data": {
      "text/html": [
       "<div>\n",
       "<style scoped>\n",
       "    .dataframe tbody tr th:only-of-type {\n",
       "        vertical-align: middle;\n",
       "    }\n",
       "\n",
       "    .dataframe tbody tr th {\n",
       "        vertical-align: top;\n",
       "    }\n",
       "\n",
       "    .dataframe thead th {\n",
       "        text-align: right;\n",
       "    }\n",
       "</style>\n",
       "<table border=\"1\" class=\"dataframe\">\n",
       "  <thead>\n",
       "    <tr style=\"text-align: right;\">\n",
       "      <th></th>\n",
       "      <th>channel</th>\n",
       "      <th>author</th>\n",
       "      <th>message</th>\n",
       "      <th>size</th>\n",
       "      <th>fixed</th>\n",
       "      <th>fixed_size</th>\n",
       "    </tr>\n",
       "  </thead>\n",
       "  <tbody>\n",
       "    <tr>\n",
       "      <th>50</th>\n",
       "      <td>general</td>\n",
       "      <td>twentylemon#2882</td>\n",
       "      <td>so</td>\n",
       "      <td>2</td>\n",
       "      <td>NaN</td>\n",
       "      <td>NaN</td>\n",
       "    </tr>\n",
       "    <tr>\n",
       "      <th>69</th>\n",
       "      <td>general</td>\n",
       "      <td>twentylemon#2882</td>\n",
       "      <td>this</td>\n",
       "      <td>4</td>\n",
       "      <td>NaN</td>\n",
       "      <td>NaN</td>\n",
       "    </tr>\n",
       "    <tr>\n",
       "      <th>202</th>\n",
       "      <td>general</td>\n",
       "      <td>twentylemon#2882</td>\n",
       "      <td>what about</td>\n",
       "      <td>10</td>\n",
       "      <td>NaN</td>\n",
       "      <td>NaN</td>\n",
       "    </tr>\n",
       "    <tr>\n",
       "      <th>247</th>\n",
       "      <td>general</td>\n",
       "      <td>twentylemon#2882</td>\n",
       "      <td>i have not</td>\n",
       "      <td>10</td>\n",
       "      <td>NaN</td>\n",
       "      <td>NaN</td>\n",
       "    </tr>\n",
       "    <tr>\n",
       "      <th>383</th>\n",
       "      <td>general</td>\n",
       "      <td>Shmebulock#4334</td>\n",
       "      <td>off</td>\n",
       "      <td>3</td>\n",
       "      <td>NaN</td>\n",
       "      <td>NaN</td>\n",
       "    </tr>\n",
       "  </tbody>\n",
       "</table>\n",
       "</div>"
      ],
      "text/plain": [
       "     channel            author     message  size fixed  fixed_size\n",
       "50   general  twentylemon#2882          so     2   NaN         NaN\n",
       "69   general  twentylemon#2882        this     4   NaN         NaN\n",
       "202  general  twentylemon#2882  what about    10   NaN         NaN\n",
       "247  general  twentylemon#2882  i have not    10   NaN         NaN\n",
       "383  general   Shmebulock#4334         off     3   NaN         NaN"
      ]
     },
     "execution_count": 29,
     "metadata": {},
     "output_type": "execute_result"
    }
   ],
   "source": [
    "df[df[\"fixed\"].isna()].head(5)"
   ]
  },
  {
   "cell_type": "code",
   "execution_count": 30,
   "metadata": {},
   "outputs": [
    {
     "data": {
      "text/plain": [
       "153"
      ]
     },
     "execution_count": 30,
     "metadata": {},
     "output_type": "execute_result"
    }
   ],
   "source": [
    "df = df.dropna()\n",
    "df = df[df[\"fixed_size\"] > 1]\n",
    "gc.collect()"
   ]
  },
  {
   "cell_type": "code",
   "execution_count": 31,
   "metadata": {},
   "outputs": [
    {
     "data": {
      "text/html": [
       "<div>\n",
       "<style scoped>\n",
       "    .dataframe tbody tr th:only-of-type {\n",
       "        vertical-align: middle;\n",
       "    }\n",
       "\n",
       "    .dataframe tbody tr th {\n",
       "        vertical-align: top;\n",
       "    }\n",
       "\n",
       "    .dataframe thead th {\n",
       "        text-align: right;\n",
       "    }\n",
       "</style>\n",
       "<table border=\"1\" class=\"dataframe\">\n",
       "  <thead>\n",
       "    <tr style=\"text-align: right;\">\n",
       "      <th></th>\n",
       "      <th>channel</th>\n",
       "      <th>author</th>\n",
       "      <th>message</th>\n",
       "      <th>size</th>\n",
       "      <th>fixed</th>\n",
       "      <th>fixed_size</th>\n",
       "    </tr>\n",
       "  </thead>\n",
       "  <tbody>\n",
       "    <tr>\n",
       "      <th>0</th>\n",
       "      <td>general</td>\n",
       "      <td>Davey Jonez#6500</td>\n",
       "      <td>then go skiing again the next day</td>\n",
       "      <td>33</td>\n",
       "      <td>[go, skiing, next, day]</td>\n",
       "      <td>4.0</td>\n",
       "    </tr>\n",
       "    <tr>\n",
       "      <th>1</th>\n",
       "      <td>general</td>\n",
       "      <td>Davey Jonez#6500</td>\n",
       "      <td>then instead of going back to calgary you go t...</td>\n",
       "      <td>101</td>\n",
       "      <td>[instead, going, back, calgary, go, lake, loui...</td>\n",
       "      <td>11.0</td>\n",
       "    </tr>\n",
       "    <tr>\n",
       "      <th>2</th>\n",
       "      <td>general</td>\n",
       "      <td>Davey Jonez#6500</td>\n",
       "      <td>yes. to go back country skiing in banff, away ...</td>\n",
       "      <td>60</td>\n",
       "      <td>[yes, go, back, country, skiing, banff, away, ...</td>\n",
       "      <td>9.0</td>\n",
       "    </tr>\n",
       "    <tr>\n",
       "      <th>3</th>\n",
       "      <td>general</td>\n",
       "      <td>Dan#0075</td>\n",
       "      <td>leaving calgary temporarily?</td>\n",
       "      <td>28</td>\n",
       "      <td>[leaving, calgary, temporarily, ]</td>\n",
       "      <td>4.0</td>\n",
       "    </tr>\n",
       "    <tr>\n",
       "      <th>4</th>\n",
       "      <td>general</td>\n",
       "      <td>Davey Jonez#6500</td>\n",
       "      <td>it involves leaving calgary.</td>\n",
       "      <td>28</td>\n",
       "      <td>[involves, leaving, calgary, ]</td>\n",
       "      <td>4.0</td>\n",
       "    </tr>\n",
       "  </tbody>\n",
       "</table>\n",
       "</div>"
      ],
      "text/plain": [
       "   channel            author  \\\n",
       "0  general  Davey Jonez#6500   \n",
       "1  general  Davey Jonez#6500   \n",
       "2  general  Davey Jonez#6500   \n",
       "3  general          Dan#0075   \n",
       "4  general  Davey Jonez#6500   \n",
       "\n",
       "                                             message  size  \\\n",
       "0                  then go skiing again the next day    33   \n",
       "1  then instead of going back to calgary you go t...   101   \n",
       "2  yes. to go back country skiing in banff, away ...    60   \n",
       "3                       leaving calgary temporarily?    28   \n",
       "4                       it involves leaving calgary.    28   \n",
       "\n",
       "                                               fixed  fixed_size  \n",
       "0                            [go, skiing, next, day]         4.0  \n",
       "1  [instead, going, back, calgary, go, lake, loui...        11.0  \n",
       "2  [yes, go, back, country, skiing, banff, away, ...         9.0  \n",
       "3                  [leaving, calgary, temporarily, ]         4.0  \n",
       "4                     [involves, leaving, calgary, ]         4.0  "
      ]
     },
     "execution_count": 31,
     "metadata": {},
     "output_type": "execute_result"
    }
   ],
   "source": [
    "df.head(5)"
   ]
  },
  {
   "cell_type": "code",
   "execution_count": 32,
   "metadata": {},
   "outputs": [
    {
     "data": {
      "text/plain": [
       "58"
      ]
     },
     "execution_count": 32,
     "metadata": {},
     "output_type": "execute_result"
    }
   ],
   "source": [
    "df = df[~(df[\"message\"].str.contains(\"http\"))]\n",
    "gc.collect()"
   ]
  },
  {
   "cell_type": "code",
   "execution_count": 33,
   "metadata": {},
   "outputs": [
    {
     "data": {
      "text/plain": [
       "(8082, 6)"
      ]
     },
     "execution_count": 33,
     "metadata": {},
     "output_type": "execute_result"
    }
   ],
   "source": [
    "df.shape"
   ]
  },
  {
   "cell_type": "code",
   "execution_count": 34,
   "metadata": {},
   "outputs": [
    {
     "data": {
      "text/html": [
       "<div>\n",
       "<style scoped>\n",
       "    .dataframe tbody tr th:only-of-type {\n",
       "        vertical-align: middle;\n",
       "    }\n",
       "\n",
       "    .dataframe tbody tr th {\n",
       "        vertical-align: top;\n",
       "    }\n",
       "\n",
       "    .dataframe thead th {\n",
       "        text-align: right;\n",
       "    }\n",
       "</style>\n",
       "<table border=\"1\" class=\"dataframe\">\n",
       "  <thead>\n",
       "    <tr style=\"text-align: right;\">\n",
       "      <th></th>\n",
       "      <th>channel</th>\n",
       "      <th>author</th>\n",
       "      <th>message</th>\n",
       "      <th>size</th>\n",
       "      <th>fixed</th>\n",
       "      <th>fixed_size</th>\n",
       "    </tr>\n",
       "  </thead>\n",
       "  <tbody>\n",
       "    <tr>\n",
       "      <th>0</th>\n",
       "      <td>general</td>\n",
       "      <td>Davey Jonez#6500</td>\n",
       "      <td>then go skiing again the next day</td>\n",
       "      <td>33</td>\n",
       "      <td>[go, skiing, next, day]</td>\n",
       "      <td>4.0</td>\n",
       "    </tr>\n",
       "    <tr>\n",
       "      <th>1</th>\n",
       "      <td>general</td>\n",
       "      <td>Davey Jonez#6500</td>\n",
       "      <td>then instead of going back to calgary you go t...</td>\n",
       "      <td>101</td>\n",
       "      <td>[instead, going, back, calgary, go, lake, loui...</td>\n",
       "      <td>11.0</td>\n",
       "    </tr>\n",
       "    <tr>\n",
       "      <th>2</th>\n",
       "      <td>general</td>\n",
       "      <td>Davey Jonez#6500</td>\n",
       "      <td>yes. to go back country skiing in banff, away ...</td>\n",
       "      <td>60</td>\n",
       "      <td>[yes, go, back, country, skiing, banff, away, ...</td>\n",
       "      <td>9.0</td>\n",
       "    </tr>\n",
       "    <tr>\n",
       "      <th>3</th>\n",
       "      <td>general</td>\n",
       "      <td>Dan#0075</td>\n",
       "      <td>leaving calgary temporarily?</td>\n",
       "      <td>28</td>\n",
       "      <td>[leaving, calgary, temporarily, ]</td>\n",
       "      <td>4.0</td>\n",
       "    </tr>\n",
       "    <tr>\n",
       "      <th>4</th>\n",
       "      <td>general</td>\n",
       "      <td>Davey Jonez#6500</td>\n",
       "      <td>it involves leaving calgary.</td>\n",
       "      <td>28</td>\n",
       "      <td>[involves, leaving, calgary, ]</td>\n",
       "      <td>4.0</td>\n",
       "    </tr>\n",
       "  </tbody>\n",
       "</table>\n",
       "</div>"
      ],
      "text/plain": [
       "   channel            author  \\\n",
       "0  general  Davey Jonez#6500   \n",
       "1  general  Davey Jonez#6500   \n",
       "2  general  Davey Jonez#6500   \n",
       "3  general          Dan#0075   \n",
       "4  general  Davey Jonez#6500   \n",
       "\n",
       "                                             message  size  \\\n",
       "0                  then go skiing again the next day    33   \n",
       "1  then instead of going back to calgary you go t...   101   \n",
       "2  yes. to go back country skiing in banff, away ...    60   \n",
       "3                       leaving calgary temporarily?    28   \n",
       "4                       it involves leaving calgary.    28   \n",
       "\n",
       "                                               fixed  fixed_size  \n",
       "0                            [go, skiing, next, day]         4.0  \n",
       "1  [instead, going, back, calgary, go, lake, loui...        11.0  \n",
       "2  [yes, go, back, country, skiing, banff, away, ...         9.0  \n",
       "3                  [leaving, calgary, temporarily, ]         4.0  \n",
       "4                     [involves, leaving, calgary, ]         4.0  "
      ]
     },
     "execution_count": 34,
     "metadata": {},
     "output_type": "execute_result"
    }
   ],
   "source": [
    "df.head(5)"
   ]
  },
  {
   "cell_type": "code",
   "execution_count": 35,
   "metadata": {},
   "outputs": [
    {
     "ename": "TypeError",
     "evalue": "to_csv() got an unexpected keyword argument 'delimiter'",
     "output_type": "error",
     "traceback": [
      "\u001b[0;31m---------------------------------------------------------------------------\u001b[0m",
      "\u001b[0;31mTypeError\u001b[0m                                 Traceback (most recent call last)",
      "\u001b[0;32m<ipython-input-35-96ebce771f04>\u001b[0m in \u001b[0;36m<module>\u001b[0;34m\u001b[0m\n\u001b[0;32m----> 1\u001b[0;31m \u001b[0mdf\u001b[0m\u001b[0;34m.\u001b[0m\u001b[0mto_csv\u001b[0m\u001b[0;34m(\u001b[0m\u001b[0;34m\"clean_messages.csv\"\u001b[0m\u001b[0;34m,\u001b[0m \u001b[0mindex\u001b[0m\u001b[0;34m=\u001b[0m\u001b[0;32mFalse\u001b[0m\u001b[0;34m,\u001b[0m \u001b[0mdelimiter\u001b[0m\u001b[0;34m=\u001b[0m\u001b[0;34m\"|\"\u001b[0m\u001b[0;34m)\u001b[0m\u001b[0;34m\u001b[0m\u001b[0;34m\u001b[0m\u001b[0m\n\u001b[0m",
      "\u001b[0;31mTypeError\u001b[0m: to_csv() got an unexpected keyword argument 'delimiter'"
     ]
    }
   ],
   "source": [
    "df.to_csv(\"clean_messages.csv\", index=False, sep=\"|\")"
   ]
  },
  {
   "cell_type": "code",
   "execution_count": null,
   "metadata": {},
   "outputs": [],
   "source": []
  }
 ],
 "metadata": {
  "environment": {
   "name": "common-cpu.m58",
   "type": "gcloud",
   "uri": "gcr.io/deeplearning-platform-release/base-cpu:m58"
  },
  "kernelspec": {
   "display_name": "Python 3",
   "language": "python",
   "name": "python3"
  },
  "language_info": {
   "codemirror_mode": {
    "name": "ipython",
    "version": 3
   },
   "file_extension": ".py",
   "mimetype": "text/x-python",
   "name": "python",
   "nbconvert_exporter": "python",
   "pygments_lexer": "ipython3",
   "version": "3.7.8"
  }
 },
 "nbformat": 4,
 "nbformat_minor": 4
}
